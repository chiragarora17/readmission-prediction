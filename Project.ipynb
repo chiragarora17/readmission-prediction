{
 "cells": [
  {
   "cell_type": "code",
   "execution_count": 1,
   "metadata": {},
   "outputs": [
    {
     "name": "stderr",
     "output_type": "stream",
     "text": [
      "/Users/bhaktishah/anaconda/lib/python2.7/site-packages/IPython/core/interactiveshell.py:2717: DtypeWarning: Columns (0,1,4,6,7,8,9,12,13,14,15,16,17,21) have mixed types. Specify dtype option on import or set low_memory=False.\n",
      "  interactivity=interactivity, compiler=compiler, result=result)\n"
     ]
    }
   ],
   "source": [
    "#Load the data into data frame and separate Y and  X\n",
    "\n",
    "import pandas as pd\n",
    "dataFrameX = pd.read_csv(\"diabetic_data.csv\")\n",
    "index_mapping =  pd.read_csv(\"IDs_mapping.csv\")\n",
    "dataFrameY = dataFrameX[dataFrameX.columns[len(dataFrameX.columns)-1]]\n",
    "dataFrameX.drop(dataFrameX.columns[len(dataFrameX.columns)-1], axis=1, inplace=True)\n",
    "#X_train, X_test, y_train, y_test = train_test_split(dataFrameX, dataFrameY, test_size=0.3) # 70% training and 30% test"
   ]
  },
  {
   "cell_type": "code",
   "execution_count": 2,
   "metadata": {},
   "outputs": [],
   "source": [
    "#Assign categories to each cols according to each value\n",
    "values = {\"Down\":0,\"No\":1,\"Steady\":2,\"Up\":3, \"None\":4,\"Ch\":5,\"Yes\":6};\n",
    "for index,row in dataFrameX.iterrows():\n",
    "    if(index==0 ):\n",
    "        continue\n",
    "    elif index > 20:\n",
    "        break\n",
    "    else:\n",
    "#         for i,col in enumerate(uniqueColVals):\n",
    "         for i in range(0,25):\n",
    "                assignValueTo = str(dataFrameX.iat[index,i+24])\n",
    "#                     if assignValueTo in values.keys():\n",
    "                assignValue = values[assignValueTo]\n",
    "#                     else:\n",
    "#                         assignValue =  val.index(assignValueTo)\n",
    "                dataFrameX.iat[index, i+24]=assignValue\n",
    "            \n",
    "    \n"
   ]
  },
  {
   "cell_type": "code",
   "execution_count": 3,
   "metadata": {
    "collapsed": true
   },
   "outputs": [],
   "source": [
    "#import to csv\n",
    "\n",
    "dataFrameX.to_csv(\"dataCategorizedNew.csv\", sep=',',header=False)"
   ]
  },
  {
   "cell_type": "code",
   "execution_count": null,
   "metadata": {
    "collapsed": true
   },
   "outputs": [],
   "source": []
  }
 ],
 "metadata": {
  "kernelspec": {
   "display_name": "Python 2",
   "language": "python",
   "name": "python2"
  },
  "language_info": {
   "codemirror_mode": {
    "name": "ipython",
    "version": 2
   },
   "file_extension": ".py",
   "mimetype": "text/x-python",
   "name": "python",
   "nbconvert_exporter": "python",
   "pygments_lexer": "ipython2",
   "version": "2.7.13"
  }
 },
 "nbformat": 4,
 "nbformat_minor": 2
}
